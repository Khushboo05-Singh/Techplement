{
 "cells": [
  {
   "cell_type": "code",
   "execution_count": 11,
   "id": "d24ec065",
   "metadata": {},
   "outputs": [
    {
     "name": "stdout",
     "output_type": "stream",
     "text": [
      "Enter the password length: 8\n",
      "Include uppercase letters? (y/n): y\n",
      "Include lowercase letters? (y/n): n\n",
      "Include digits? (y/n): y\n",
      "Include special characters? (y/n): y\n",
      "Generated Password: 5ZU}3353\n"
     ]
    }
   ],
   "source": [
    "def get_user_input():\n",
    "    length = int(input(\"Enter the password length: \"))\n",
    "    use_uppercase = input(\"Include uppercase letters? (y/n): \").strip().lower() == 'y'\n",
    "    use_lowercase = input(\"Include lowercase letters? (y/n): \").strip().lower() == 'y'\n",
    "    use_digits = input(\"Include digits? (y/n): \").strip().lower() == 'y'\n",
    "    use_special_chars = input(\"Include special characters? (y/n): \").strip().lower() == 'y'\n",
    "    return length, use_uppercase, use_lowercase, use_digits, use_special_chars\n",
    "def generate_password(length, use_uppercase=True, use_lowercase=True, use_digits=True, use_special_chars=True):\n",
    "    character_sets = []\n",
    "    if use_uppercase:\n",
    "        character_sets.append('ABCDEFGHIJKLMNOPQRSTUVWXYZ')\n",
    "    if use_lowercase:\n",
    "        character_sets.append('abcdefghijklmnopqrstuvwxyz')\n",
    "    if use_digits:\n",
    "        character_sets.append('0123456789')\n",
    "    if use_special_chars:\n",
    "        character_sets.append('!@#$%^&*()_+-=[]{}|;:,.<>?')\n",
    "\n",
    "    if not any([use_uppercase, use_lowercase, use_digits, use_special_chars]):\n",
    "        raise ValueError(\"At least one character set (uppercase, lowercase, digits, special characters) must be selected.\")\n",
    "\n",
    "    password = ''\n",
    "    for _ in range(length):\n",
    "        selected_set = custom_random_choice(character_sets)\n",
    "        password += custom_random_choice(selected_set)\n",
    "        time.sleep(0.001)  \n",
    "    \n",
    "    return password\n",
    "def main():\n",
    "    length, use_uppercase, use_lowercase, use_digits, use_special_chars = get_user_input()\n",
    "    \n",
    "    try:\n",
    "        if length <= 0:\n",
    "            raise ValueError(\"Password length must be a positive integer.\")\n",
    "        password = generate_password(length, use_uppercase, use_lowercase, use_digits, use_special_chars)\n",
    "        print(f\"Generated Password: {password}\")\n",
    "    except ValueError as e:\n",
    "        print(f\"Error: {e}\")\n",
    "    except Exception as e:\n",
    "        print(f\"Unexpected error: {e}\")\n",
    "\n",
    "if __name__ == \"__main__\":\n",
    "    main()\n",
    "\n"
   ]
  }
 ],
 "metadata": {
  "kernelspec": {
   "display_name": "Python 3 (ipykernel)",
   "language": "python",
   "name": "python3"
  },
  "language_info": {
   "codemirror_mode": {
    "name": "ipython",
    "version": 3
   },
   "file_extension": ".py",
   "mimetype": "text/x-python",
   "name": "python",
   "nbconvert_exporter": "python",
   "pygments_lexer": "ipython3",
   "version": "3.11.3"
  }
 },
 "nbformat": 4,
 "nbformat_minor": 5
}
